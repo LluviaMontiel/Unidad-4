{
 "cells": [
  {
   "cell_type": "markdown",
   "metadata": {},
   "source": [
    "### Comparando Cadenas "
   ]
  },
  {
   "cell_type": "code",
   "execution_count": null,
   "metadata": {},
   "outputs": [],
   "source": [
    "# Las cadenas pueden ser comparadas usando el mismo conjunto \n",
    "# de operadores que se usan con los numeros.\n",
    "\n",
    "#Operadores comparadores en cadenas:\n",
    "\n",
    "\n",
    "==\n",
    "!=\n",
    ">\n",
    ">=\n",
    "<\n",
    "<=\n",
    "\n",
    "#Phyton solamente compara valores de puntos de codigo, caracter\n",
    "#por caracter\n"
   ]
  },
  {
   "cell_type": "code",
   "execution_count": 2,
   "metadata": {},
   "outputs": [
    {
     "data": {
      "text/plain": [
       "True"
      ]
     },
     "execution_count": 2,
     "metadata": {},
     "output_type": "execute_result"
    }
   ],
   "source": [
    "#Ambas comparaciones dan TRUE (verdadero) como resultado\n",
    "\n",
    "'alfa' == 'alfa'\n",
    "'alfa' != 'Alfa'"
   ]
  },
  {
   "cell_type": "code",
   "execution_count": 3,
   "metadata": {},
   "outputs": [
    {
     "data": {
      "text/plain": [
       "True"
      ]
     },
     "execution_count": 3,
     "metadata": {},
     "output_type": "execute_result"
    }
   ],
   "source": [
    "#La relación final entre cadenas está determinada por comparar\n",
    "#el primer caracter diferente en ambas cadenas.\n",
    "\n",
    "'alfa' < 'alfabeto'\n",
    "\n",
    "#Comparando dos cadenas de diferente tamaño, la mas corta \n",
    "#es identica a la más larga que es considerada mayor tamaño.\n"
   ]
  },
  {
   "cell_type": "code",
   "execution_count": 4,
   "metadata": {},
   "outputs": [
    {
     "data": {
      "text/plain": [
       "True"
      ]
     },
     "execution_count": 4,
     "metadata": {},
     "output_type": "execute_result"
    }
   ],
   "source": [
    "#Las cadenas distinguen las mayúsculas y minúsculas.\n",
    "#Las mayúsculas se consideran menores en comparacion a las\n",
    "#minúsculas.\n",
    "\n",
    "'beta' > 'Beta'"
   ]
  },
  {
   "cell_type": "code",
   "execution_count": null,
   "metadata": {},
   "outputs": [],
   "source": []
  }
 ],
 "metadata": {
  "kernelspec": {
   "display_name": "Python 3",
   "language": "python",
   "name": "python3"
  },
  "language_info": {
   "codemirror_mode": {
    "name": "ipython",
    "version": 3
   },
   "file_extension": ".py",
   "mimetype": "text/x-python",
   "name": "python",
   "nbconvert_exporter": "python",
   "pygments_lexer": "ipython3",
   "version": "3.8.3"
  }
 },
 "nbformat": 4,
 "nbformat_minor": 4
}
