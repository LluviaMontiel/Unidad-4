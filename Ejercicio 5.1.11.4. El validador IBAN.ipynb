{
 "cells": [
  {
   "cell_type": "markdown",
   "metadata": {},
   "source": [
    "###  El Validador IBAN"
   ]
  },
  {
   "cell_type": "code",
   "execution_count": null,
   "metadata": {},
   "outputs": [],
   "source": [
    "# El estandar IBAN (número de cuenta bancaria internacional)\n",
    "# proporciona un metodo simple y confiable para la validacion de\n",
    "# números contra errores.\n",
    "\n",
    "# Un numero de cuenta IBAN consta de:\n",
    "# codigo de pais que son dos letras.\n",
    "# Dos dígitos de verificación.\n",
    "# El número de cuenta real que pueden ser hasta 30 caracteres alfanumericos.\n"
   ]
  },
  {
   "cell_type": "code",
   "execution_count": null,
   "metadata": {},
   "outputs": [],
   "source": [
    "# La validación requiere los siguientes pasos:\n",
    "# 1: verificar que la longitud total del IBAN sea correcta segun el pais.\n",
    "# (el codigo no lo hara)\n",
    "# 2:  Mueve los cuatro caracteres iniciales al final de la cadena \n",
    "# (es decir, el código del país y los dígitos de verificación).\n",
    "# 3: Reemplaza cada letra en la cadena con dos dígitos, expandiendo así la cadena, donde A = 10, B = 11 ... Z = 35\n",
    "# 4: Interpreta la cadena como un entero decimal y calcula el residuo\n",
    "# Si el residuo es 1, pasa la prueba de verificación de dígitos y el IBAN puede ser válido.\n"
   ]
  },
  {
   "cell_type": "code",
   "execution_count": null,
   "metadata": {},
   "outputs": [],
   "source": [
    "# Pasos en el codigo:\n",
    "# Línea 03: pide al usuario que ingrese el IBAN\n",
    "# Línea 04: remueve los espacios de inmediato\n",
    "# Línea 05: el IBAN ingresado debe constar solo de dígitos y letras\n",
    "# Línea 06: de lo contrario muestra un mensaje\n",
    "# Línea 07: el IBAN no debe tener menos de 15 caracteres\n",
    "# Línea 08: si es más corto, se informa al usuario\n",
    "# Línea 09: el IBAN no puede tener más de 31 caracteres \n",
    "# Línea 10: si es más largo, se le informa al usuario\n",
    "# Línea 11: se comienza con el procesamiento\n",
    "# Línea 12: se mueven los cuatro caracteres iniciales al final del número \n",
    "# y se convierten todas las letras a mayúsculas realizada en el paso dos\n",
    "# Línea 13: la variable es utilizada para completar el número\n",
    "# (deacuerdo con el paso 03)\n",
    "# Línea 14: iterar a través del IBAN\n",
    "# Línea 15: si el caracter es un digito\n",
    "# Línea 16: se copia\n",
    "# Línea 17: de lo contrario\n",
    "# Línea 18: conviértelo en dos dígitos\n",
    "# Línea 19: la forma convertida del IBAN está lista: ahora se convierte en un número entero\n",
    "# Línea 20: ¿el residuo de la división de iban2 entre 97 es igual a 1?\n",
    "# Línea 21: si es así, entonces el número es correcto\n",
    "# Línea 22: de lo contrario\n",
    "# Línea 23: el número no es válido"
   ]
  },
  {
   "cell_type": "code",
   "execution_count": 2,
   "metadata": {},
   "outputs": [
    {
     "name": "stdout",
     "output_type": "stream",
     "text": [
      "Ingresa IBAN, por favor: GB72 HBZU 7006 7212 1253 00\n",
      "El IBAN ingresado es válido.\n"
     ]
    }
   ],
   "source": [
    "# Validador IBAN\n",
    "\n",
    "iban = input(\"Ingresa IBAN, por favor: \")\n",
    "iban = iban.replace(' ','')\n",
    "if not iban.isalnum():\n",
    "    print(\"Has introducido caracteres no válidos.\")\n",
    "elif len(iban) < 15:\n",
    "    print(\"El IBAN ingresado es demasiado corto.\")\n",
    "elif len(iban) > 31:\n",
    "    print(\"El IBAN ingresado es demasiado largo.\")\n",
    "else:\n",
    "    iban = (iban[4:] + iban[0:4]).upper()\n",
    "    iban2 = ''\n",
    "    for ch in iban:\n",
    "        if ch.isdigit():\n",
    "            iban2 += ch\n",
    "        else:\n",
    "            iban2 += str(10 + ord(ch) - ord('A'))\n",
    "    ibann = int(iban2)\n",
    "    if ibann % 97 == 1:\n",
    "        print(\"El IBAN ingresado es válido.\")\n",
    "    else:\n",
    "        print(\"El IBAN ingresado no es válido.\")"
   ]
  }
 ],
 "metadata": {
  "kernelspec": {
   "display_name": "Python 3",
   "language": "python",
   "name": "python3"
  },
  "language_info": {
   "codemirror_mode": {
    "name": "ipython",
    "version": 3
   },
   "file_extension": ".py",
   "mimetype": "text/x-python",
   "name": "python",
   "nbconvert_exporter": "python",
   "pygments_lexer": "ipython3",
   "version": "3.8.3"
  }
 },
 "nbformat": 4,
 "nbformat_minor": 4
}
