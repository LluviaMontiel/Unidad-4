{
 "cells": [
  {
   "cell_type": "code",
   "execution_count": 6,
   "metadata": {},
   "outputs": [
    {
     "name": "stdout",
     "output_type": "stream",
     "text": [
      "Escribe un texto: Eleven animals I slam in a net\n",
      "No es un palíndromo.\n"
     ]
    }
   ],
   "source": [
    "miString = input(\"Escribe un texto: \")\n",
    "\n",
    "# En este paso se quitan los espacios y se convierte a minúsculas\n",
    "miString = miString.casefold()\n",
    "miString = miString.replace(\" \", \"\")\n",
    "\n",
    "# Revierte el texto\n",
    "stringInv = reversed(miString)\n",
    "\n",
    "# Comprobamos si es o no palíndromo\n",
    "if list(miString) == list(stringInv):\n",
    "    print(\"Es un palíndromo.\")\n",
    "else:\n",
    "    print(\"No es un palíndromo.\")"
   ]
  },
  {
   "cell_type": "code",
   "execution_count": 7,
   "metadata": {},
   "outputs": [
    {
     "name": "stdout",
     "output_type": "stream",
     "text": [
      "Escribe un texto: Ten animals I slam in a net\n",
      "Es un palíndromo.\n"
     ]
    }
   ],
   "source": [
    "miString = input(\"Escribe un texto: \")\n",
    "\n",
    "# En este paso se quitan los espacios y se convierte a minúsculas\n",
    "miString = miString.casefold()\n",
    "miString = miString.replace(\" \", \"\")\n",
    "\n",
    "# Revierte el texto\n",
    "stringInv = reversed(miString)\n",
    "\n",
    "# Comprobamos si es o no palíndromo\n",
    "if list(miString) == list(stringInv):\n",
    "    print(\"Es un palíndromo.\")\n",
    "else:\n",
    "    print(\"No es un palíndromo.\")"
   ]
  },
  {
   "cell_type": "code",
   "execution_count": null,
   "metadata": {},
   "outputs": [],
   "source": []
  }
 ],
 "metadata": {
  "kernelspec": {
   "display_name": "Python 3",
   "language": "python",
   "name": "python3"
  },
  "language_info": {
   "codemirror_mode": {
    "name": "ipython",
    "version": 3
   },
   "file_extension": ".py",
   "mimetype": "text/x-python",
   "name": "python",
   "nbconvert_exporter": "python",
   "pygments_lexer": "ipython3",
   "version": "3.8.3"
  }
 },
 "nbformat": 4,
 "nbformat_minor": 4
}
