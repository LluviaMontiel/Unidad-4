{
 "cells": [
  {
   "cell_type": "markdown",
   "metadata": {},
   "source": [
    "### Ordenamiento "
   ]
  },
  {
   "cell_type": "markdown",
   "metadata": {},
   "source": [
    "#### Phyton ofrede dos maneras  diferentes de ordenar las listas. \n",
    "#### El primero es implementar la función SORTED()."
   ]
  },
  {
   "cell_type": "code",
   "execution_count": 1,
   "metadata": {},
   "outputs": [
    {
     "name": "stdout",
     "output_type": "stream",
     "text": [
      "['omega', 'alfa', 'pi', 'gama']\n",
      "['alfa', 'gama', 'omega', 'pi']\n",
      "\n"
     ]
    }
   ],
   "source": [
    "#Primero se agrega la función SORTED(), esta función toma el \n",
    "#argumento de una lista y devuelve una nueva lista con los \n",
    "#elementos ordenados.\n",
    "\n",
    "# Demostración de la función sorted()\n",
    "firstGreek = ['omega', 'alfa', 'pi', 'gama']\n",
    "firstGreek2 = sorted(firstGreek)\n",
    "\n",
    "print(firstGreek)\n",
    "print(firstGreek2)\n",
    "\n",
    "print()"
   ]
  },
  {
   "cell_type": "markdown",
   "metadata": {},
   "source": [
    "#### El segundo es implementar la función SORT()."
   ]
  },
  {
   "cell_type": "code",
   "execution_count": 2,
   "metadata": {},
   "outputs": [
    {
     "name": "stdout",
     "output_type": "stream",
     "text": [
      "['omega', 'alfa', 'pi', 'gama']\n",
      "['alfa', 'gama', 'omega', 'pi']\n"
     ]
    }
   ],
   "source": [
    "#Este metodo afecta a la misma lista, no se crea nueva lista.\n",
    "\n",
    "# Demostración del método sort()\n",
    "secondGreek = ['omega', 'alfa', 'pi', 'gama']\n",
    "print(secondGreek)\n",
    "\n",
    "secondGreek.sort()\n",
    "print(secondGreek)"
   ]
  },
  {
   "cell_type": "code",
   "execution_count": null,
   "metadata": {},
   "outputs": [],
   "source": []
  }
 ],
 "metadata": {
  "kernelspec": {
   "display_name": "Python 3",
   "language": "python",
   "name": "python3"
  },
  "language_info": {
   "codemirror_mode": {
    "name": "ipython",
    "version": 3
   },
   "file_extension": ".py",
   "mimetype": "text/x-python",
   "name": "python",
   "nbconvert_exporter": "python",
   "pygments_lexer": "ipython3",
   "version": "3.8.3"
  }
 },
 "nbformat": 4,
 "nbformat_minor": 4
}
