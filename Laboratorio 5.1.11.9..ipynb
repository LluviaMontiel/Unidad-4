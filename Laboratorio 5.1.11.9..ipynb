{
 "cells": [
  {
   "cell_type": "code",
   "execution_count": 1,
   "metadata": {},
   "outputs": [
    {
     "name": "stdout",
     "output_type": "stream",
     "text": [
      "Ingresa tu fecha de cumpleaños en digitos: 19991229\n",
      "6\n"
     ]
    }
   ],
   "source": [
    "def digitoDeLaVida(x):\n",
    "    suma = 0\n",
    "    \n",
    "# Ciclo para sumar los númmeros que se agregan\n",
    "    while x:\n",
    "        suma += x % 10\n",
    "        x //= 10\n",
    "    \n",
    "# El numero no debe resultar mayor a 9\n",
    "    if suma > 9:\n",
    "        return digitoDeLaVida(suma)\n",
    "\n",
    "    return suma\n",
    "\n",
    "x = int(input(\"Ingresa tu fecha de cumpleaños en digitos: \"))\n",
    "\n",
    "print(digitoDeLaVida(x))"
   ]
  },
  {
   "cell_type": "code",
   "execution_count": 3,
   "metadata": {},
   "outputs": [
    {
     "name": "stdout",
     "output_type": "stream",
     "text": [
      "Ingresa tu fecha de cumpleaños en digitos: 20000101\n",
      "4\n"
     ]
    }
   ],
   "source": [
    "def digitoDeLaVida(x):\n",
    "    suma = 0\n",
    "    \n",
    "# Ciclo para sumar los númmeros que se agregan\n",
    "    while x:\n",
    "        suma += x % 10\n",
    "        x //= 10\n",
    "    \n",
    "# El numero no debe resultar mayor a 9\n",
    "    if suma > 9:\n",
    "        return digitoDeLaVida(suma)\n",
    "\n",
    "    return suma\n",
    "\n",
    "x = int(input(\"Ingresa tu fecha de cumpleaños en digitos: \"))\n",
    "\n",
    "print(digitoDeLaVida(x))"
   ]
  },
  {
   "cell_type": "code",
   "execution_count": 4,
   "metadata": {},
   "outputs": [
    {
     "name": "stdout",
     "output_type": "stream",
     "text": [
      "Ingresa tu fecha de cumpleaños en digitos: 19990505\n",
      "2\n"
     ]
    }
   ],
   "source": [
    "def digitoDeLaVida(x):\n",
    "    suma = 0\n",
    "    \n",
    "# Ciclo para sumar los númmeros que se agregan\n",
    "    while x:\n",
    "        suma += x % 10\n",
    "        x //= 10\n",
    "    \n",
    "# El numero no debe resultar mayor a 9\n",
    "    if suma > 9:\n",
    "        return digitoDeLaVida(suma)\n",
    "\n",
    "    return suma\n",
    "\n",
    "x = int(input(\"Ingresa tu fecha de cumpleaños en digitos: \"))\n",
    "\n",
    "print(digitoDeLaVida(x))"
   ]
  },
  {
   "cell_type": "code",
   "execution_count": null,
   "metadata": {},
   "outputs": [],
   "source": []
  }
 ],
 "metadata": {
  "kernelspec": {
   "display_name": "Python 3",
   "language": "python",
   "name": "python3"
  },
  "language_info": {
   "codemirror_mode": {
    "name": "ipython",
    "version": 3
   },
   "file_extension": ".py",
   "mimetype": "text/x-python",
   "name": "python",
   "nbconvert_exporter": "python",
   "pygments_lexer": "ipython3",
   "version": "3.8.3"
  }
 },
 "nbformat": 4,
 "nbformat_minor": 4
}
